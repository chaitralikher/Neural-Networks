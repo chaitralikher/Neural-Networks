{
 "cells": [
  {
   "cell_type": "code",
   "execution_count": 54,
   "metadata": {},
   "outputs": [
    {
     "name": "stdout",
     "output_type": "stream",
     "text": [
      "(48000, 784)\n"
     ]
    }
   ],
   "source": [
    "import idx2numpy\n",
    "from sklearn.metrics import accuracy_score\n",
    "import pandas as pd\n",
    "import numpy as np\n",
    "import matplotlib.pyplot as plt\n",
    "from sklearn.model_selection import train_test_split\n",
    "\n",
    "data = idx2numpy.convert_from_file(\"/Volumes/Chaitrali/ML/Neural Networks/train-images-idx3-ubyte\")\n",
    "y= idx2numpy.convert_from_file(\"/Volumes/Chaitrali/ML/Neural Networks/train-labels-idx1-ubyte\")\n",
    "y=pd.get_dummies(y)\n",
    "\n",
    "X=data.reshape(60000,784)\n",
    "y1=np.array(y)\n",
    "X_train, X_test, y_train, y_test = train_test_split(X, y1, test_size=0.2,random_state=42)\n",
    "print(X_train.shape)"
   ]
  },
  {
   "cell_type": "code",
   "execution_count": 55,
   "metadata": {},
   "outputs": [],
   "source": [
    "def create_weights(nh1,nh2,sample,output_n):\n",
    "    \n",
    "    weights_hidden1=np.random.randn(sample,nh1)* np.sqrt(1. / sample)\n",
    "    bias_hidden1=np.zeros((1,nh1))\n",
    "    \n",
    "    weights_hidden2=np.random.randn(nh1,nh2)* np.sqrt(1. / nh1)\n",
    "    bias_hidden2=np.zeros((1,nh2))\n",
    "    weights_output=np.random.randn(nh2,output_n)* np.sqrt(1. / nh2)\n",
    "    bias_output=np.zeros((1,output_n))\n",
    "    return weights_hidden1,bias_hidden1,weights_hidden2,bias_hidden2, weights_output,bias_output"
   ]
  },
  {
   "cell_type": "code",
   "execution_count": 56,
   "metadata": {},
   "outputs": [],
   "source": [
    "def tanh(z):\n",
    "    a= (np.exp(z) - np.exp(-z)) / (np.exp(z) + np.exp(-z))\n",
    "    return a\n",
    "def tanh_der(z):\n",
    "    a= 1 - (z**2)\n",
    "    return a\n",
    "def sigmoid(x):   \n",
    "#sigmoid activation function\n",
    "    s = 1 / (1 + np.exp(-x))\n",
    "    return s\n",
    "def sigmoid_der(x):\n",
    "    return x*(1-x)"
   ]
  },
  {
   "cell_type": "code",
   "execution_count": 57,
   "metadata": {},
   "outputs": [],
   "source": [
    "\n",
    "#feed forward\n",
    "def feed_forward(X,w1,b1,w2,b2,w3,b3):\n",
    "    act=act\n",
    "    \n",
    "    #product of w1.x\n",
    "    z1=np.dot(X,w1)+b1\n",
    "    \n",
    "    #Activation functions\n",
    "    a1=tanh(z1)\n",
    "  \n",
    "    #product of w2.Activation1\n",
    "    z2=np.dot(a1,w2) + b2\n",
    "    \n",
    "    #Activation functions\n",
    "    a2=sigmoid(z2)\n",
    "    \n",
    "    #product of w3.Activation2\n",
    "    z3=np.dot(a2,w3) + b3\n",
    "    \n",
    "    #Activation output layer=softmax\n",
    "    a3= np.exp(z3) / np.sum(np.exp(z3), axis=0,keepdims=True)\n",
    "    \n",
    "    return a1,z1,a2,z2,a3,z3\n"
   ]
  },
  {
   "cell_type": "code",
   "execution_count": 58,
   "metadata": {},
   "outputs": [],
   "source": [
    "def error(pred, real):\n",
    "    n_samples = real.shape[0]\n",
    "    res = pred - real\n",
    "    return res/n_samples\n",
    "\n",
    "#Back propogation\n",
    "def back_prop(X,y,a1,a2,a3,w2,w3):\n",
    "    #return gradients of corresponding weights and bias\n",
    "    \n",
    "    #error from last\n",
    "    dz3=error(a3,y)\n",
    "    \n",
    "    #grads from last layer\n",
    "    dw3=np.dot(a2.T,dz3)\n",
    "    db3 =np.sum(dz3, axis=0, keepdims=True)\n",
    "    \n",
    "    #back propgate through 2nd layer\n",
    "    da2 = np.dot(dz3,w3.T)\n",
    "    dz2= da2 * tanh_der(a2)\n",
    "        \n",
    "    #grads from hidden layer \n",
    "    dw2=np.dot(a1.T,dz2)\n",
    "    db2 =np.sum(dz2, axis=0, keepdims=True)\n",
    "    \n",
    "   # back propgate through first layer\n",
    "    da1 = np.dot(dz2,w2.T)\n",
    "    dz1 = da1 * sigmoid_der(a1)\n",
    "\n",
    "    # gradients at first layer \n",
    "    dw1 = np.dot(X.T,dz1)\n",
    "    db1 = np.sum(dz1, axis=0, keepdims=True)\n",
    "    \n",
    "    return dw1,dw2,db1,db2,dw3,db3    "
   ]
  },
  {
   "cell_type": "code",
   "execution_count": 59,
   "metadata": {},
   "outputs": [],
   "source": [
    "#Cross Entropy Loss\n",
    "def compute_loss(Y, Y_hat):\n",
    "    n_samples = Y.shape[0]\n",
    "    logp = - np.log(Y_hat[np.arange(n_samples), Y.argmax(axis=1)])\n",
    "    #print(\"logp: \"+str(logp))\n",
    "    loss = np.sum(logp)/n_samples\n",
    "    return loss\n",
    "     "
   ]
  },
  {
   "cell_type": "code",
   "execution_count": 66,
   "metadata": {},
   "outputs": [],
   "source": [
    "#training the model\n",
    "def train(X,y,nh1,nh2,lr,act,e):\n",
    "    \"hyperparameters tuning\"\n",
    "    epoch=int(e)+1\n",
    "    sample=784\n",
    "    output_n=10\n",
    "    beta=0.999\n",
    "    acc=[]\n",
    "    train_loss=[]\n",
    "    epochs = range(1,epoch)\n",
    "    w1,b1,w2,b2,w3,b3=create_weights(nh1,nh2,sample,output_n)\n",
    "    \n",
    "    #for xor data weight will be initialized as follows:\n",
    "    #w1,b1,w2,b2=create_weights(nh,3,2)\n",
    "    \n",
    "    for i in range(e):\n",
    "        a1,z1,a2,z2,a3,z3=feed_forward(X,w1,b1,w2,b2,w3,b3,act)\n",
    "        #returns gradient for weight update\n",
    "        dw1,dw2,db1,db2,dw3,db3=back_prop(X,y,a1,a2,a3,w2,w3,act)\n",
    "       \n",
    "        dw1=beta*dw1+(1.0-beta)*dw1\n",
    "        dw2=beta*dw2+(1.0-beta)*dw2\n",
    "        db1=beta*db1+(1.0-beta)*db1\n",
    "        db2=beta*db2+(1.0-beta)*db2\n",
    "        dw3=beta*dw3+(1.0-beta)*dw3\n",
    "        db3=beta*db3+(1.0-beta)*db3\n",
    "        \n",
    "        #update weights and bias for next epoch--gradient descent\n",
    "        w1=w1-(lr*dw1)\n",
    "        b1=b1-(lr*db1)\n",
    "        w2=w2-(lr*dw2)\n",
    "        b2=b2-(lr*db2)\n",
    "        w3=w3-(lr*dw3)\n",
    "        b3=b3-(lr*db3)\n",
    "        \n",
    "        #feedforward new weights\n",
    "        a1,z1,a2,z2,a3,z3=feed_forward(X,w1,b1,w2,b2,w3,b3,act)\n",
    "        #cross-entropy loss\n",
    "        loss=compute_loss(y,a3)\n",
    "        train_loss.append(loss)\n",
    "        a21=np.argmax(a3,axis=1)\n",
    "        y1=np.argmax(y,axis=1)\n",
    "        a=accuracy_score(y1, a21)*100\n",
    "        acc.append(a)\n",
    "    print(\"train_loss: \"+str(loss))\n",
    "    \n",
    "    plt.plot(epochs,acc,'g')\n",
    "    plt.title('Accuracy of Training')\n",
    "    plt.xlabel('Epochs')\n",
    "    plt.ylabel('Accuracy')\n",
    "    plt.show()\n",
    "    \n",
    "    #predict test\n",
    "    a1,z1,a2,z2,a3,z3=feed_forward(X_test,w1,b1,w2,b2,w3,b3,act)\n",
    "    test_loss=compute_loss(y_test,a3)\n",
    "    print(\"test_loss: \"+str(test_loss))\n",
    "    a22=np.argmax(a3,axis=1)\n",
    "    y2=np.argmax(y_test,axis=1)\n",
    "    accu=accuracy_score(y2, a22)*100\n",
    "    print(\"Accuracy of Test data:\"+str(accu))"
   ]
  },
  {
   "cell_type": "code",
   "execution_count": 67,
   "metadata": {},
   "outputs": [
    {
     "ename": "KeyboardInterrupt",
     "evalue": "",
     "output_type": "error",
     "traceback": [
      "\u001b[0;31m---------------------------------------------------------------------------\u001b[0m",
      "\u001b[0;31mKeyboardInterrupt\u001b[0m                         Traceback (most recent call last)",
      "\u001b[0;32m<ipython-input-67-8b222d21c0db>\u001b[0m in \u001b[0;36m<module>\u001b[0;34m()\u001b[0m\n\u001b[1;32m      4\u001b[0m \u001b[0mact\u001b[0m\u001b[0;34m=\u001b[0m\u001b[0;34m\"sigmoid\"\u001b[0m\u001b[0;34m\u001b[0m\u001b[0m\n\u001b[1;32m      5\u001b[0m \u001b[0me\u001b[0m\u001b[0;34m=\u001b[0m\u001b[0;36m500\u001b[0m\u001b[0;34m\u001b[0m\u001b[0m\n\u001b[0;32m----> 6\u001b[0;31m \u001b[0mtrain\u001b[0m\u001b[0;34m(\u001b[0m\u001b[0mX_train\u001b[0m\u001b[0;34m,\u001b[0m\u001b[0my_train\u001b[0m\u001b[0;34m,\u001b[0m\u001b[0mnh1\u001b[0m\u001b[0;34m,\u001b[0m\u001b[0mnh2\u001b[0m\u001b[0;34m,\u001b[0m\u001b[0mlr\u001b[0m\u001b[0;34m,\u001b[0m\u001b[0mact\u001b[0m\u001b[0;34m,\u001b[0m\u001b[0me\u001b[0m\u001b[0;34m)\u001b[0m\u001b[0;34m\u001b[0m\u001b[0m\n\u001b[0m",
      "\u001b[0;32m<ipython-input-66-a251580b7560>\u001b[0m in \u001b[0;36mtrain\u001b[0;34m(X, y, nh1, nh2, lr, act, e)\u001b[0m\n\u001b[1;32m     15\u001b[0m \u001b[0;34m\u001b[0m\u001b[0m\n\u001b[1;32m     16\u001b[0m     \u001b[0;32mfor\u001b[0m \u001b[0mi\u001b[0m \u001b[0;32min\u001b[0m \u001b[0mrange\u001b[0m\u001b[0;34m(\u001b[0m\u001b[0me\u001b[0m\u001b[0;34m)\u001b[0m\u001b[0;34m:\u001b[0m\u001b[0;34m\u001b[0m\u001b[0m\n\u001b[0;32m---> 17\u001b[0;31m         \u001b[0ma1\u001b[0m\u001b[0;34m,\u001b[0m\u001b[0mz1\u001b[0m\u001b[0;34m,\u001b[0m\u001b[0ma2\u001b[0m\u001b[0;34m,\u001b[0m\u001b[0mz2\u001b[0m\u001b[0;34m,\u001b[0m\u001b[0ma3\u001b[0m\u001b[0;34m,\u001b[0m\u001b[0mz3\u001b[0m\u001b[0;34m=\u001b[0m\u001b[0mfeed_forward\u001b[0m\u001b[0;34m(\u001b[0m\u001b[0mX\u001b[0m\u001b[0;34m,\u001b[0m\u001b[0mw1\u001b[0m\u001b[0;34m,\u001b[0m\u001b[0mb1\u001b[0m\u001b[0;34m,\u001b[0m\u001b[0mw2\u001b[0m\u001b[0;34m,\u001b[0m\u001b[0mb2\u001b[0m\u001b[0;34m,\u001b[0m\u001b[0mw3\u001b[0m\u001b[0;34m,\u001b[0m\u001b[0mb3\u001b[0m\u001b[0;34m,\u001b[0m\u001b[0mact\u001b[0m\u001b[0;34m)\u001b[0m\u001b[0;34m\u001b[0m\u001b[0m\n\u001b[0m\u001b[1;32m     18\u001b[0m         \u001b[0;31m#returns gradient for weight update\u001b[0m\u001b[0;34m\u001b[0m\u001b[0;34m\u001b[0m\u001b[0m\n\u001b[1;32m     19\u001b[0m         \u001b[0mdw1\u001b[0m\u001b[0;34m,\u001b[0m\u001b[0mdw2\u001b[0m\u001b[0;34m,\u001b[0m\u001b[0mdb1\u001b[0m\u001b[0;34m,\u001b[0m\u001b[0mdb2\u001b[0m\u001b[0;34m,\u001b[0m\u001b[0mdw3\u001b[0m\u001b[0;34m,\u001b[0m\u001b[0mdb3\u001b[0m\u001b[0;34m=\u001b[0m\u001b[0mback_prop\u001b[0m\u001b[0;34m(\u001b[0m\u001b[0mX\u001b[0m\u001b[0;34m,\u001b[0m\u001b[0my\u001b[0m\u001b[0;34m,\u001b[0m\u001b[0ma1\u001b[0m\u001b[0;34m,\u001b[0m\u001b[0ma2\u001b[0m\u001b[0;34m,\u001b[0m\u001b[0ma3\u001b[0m\u001b[0;34m,\u001b[0m\u001b[0mw2\u001b[0m\u001b[0;34m,\u001b[0m\u001b[0mw3\u001b[0m\u001b[0;34m,\u001b[0m\u001b[0mact\u001b[0m\u001b[0;34m)\u001b[0m\u001b[0;34m\u001b[0m\u001b[0m\n",
      "\u001b[0;32m<ipython-input-57-cac54ae32212>\u001b[0m in \u001b[0;36mfeed_forward\u001b[0;34m(X, w1, b1, w2, b2, w3, b3, act)\u001b[0m\n\u001b[1;32m      9\u001b[0m     \u001b[0;31m#Activation functions\u001b[0m\u001b[0;34m\u001b[0m\u001b[0;34m\u001b[0m\u001b[0m\n\u001b[1;32m     10\u001b[0m     \u001b[0;32mif\u001b[0m \u001b[0mact\u001b[0m \u001b[0;34m==\u001b[0m \u001b[0;34m\"sigmoid\"\u001b[0m\u001b[0;34m:\u001b[0m\u001b[0;34m\u001b[0m\u001b[0m\n\u001b[0;32m---> 11\u001b[0;31m         \u001b[0ma1\u001b[0m\u001b[0;34m=\u001b[0m\u001b[0msigmoid\u001b[0m\u001b[0;34m(\u001b[0m\u001b[0mz1\u001b[0m\u001b[0;34m)\u001b[0m\u001b[0;34m\u001b[0m\u001b[0m\n\u001b[0m\u001b[1;32m     12\u001b[0m     \u001b[0;32melse\u001b[0m\u001b[0;34m:\u001b[0m\u001b[0;34m\u001b[0m\u001b[0m\n\u001b[1;32m     13\u001b[0m         \u001b[0ma1\u001b[0m\u001b[0;34m=\u001b[0m\u001b[0mtanh\u001b[0m\u001b[0;34m(\u001b[0m\u001b[0mz1\u001b[0m\u001b[0;34m)\u001b[0m\u001b[0;34m\u001b[0m\u001b[0m\n",
      "\u001b[0;32m<ipython-input-56-968c2c1dff32>\u001b[0m in \u001b[0;36msigmoid\u001b[0;34m(x)\u001b[0m\n\u001b[1;32m      7\u001b[0m \u001b[0;32mdef\u001b[0m \u001b[0msigmoid\u001b[0m\u001b[0;34m(\u001b[0m\u001b[0mx\u001b[0m\u001b[0;34m)\u001b[0m\u001b[0;34m:\u001b[0m\u001b[0;34m\u001b[0m\u001b[0m\n\u001b[1;32m      8\u001b[0m \u001b[0;31m#sigmoid activation function\u001b[0m\u001b[0;34m\u001b[0m\u001b[0;34m\u001b[0m\u001b[0m\n\u001b[0;32m----> 9\u001b[0;31m     \u001b[0ms\u001b[0m \u001b[0;34m=\u001b[0m \u001b[0;36m1\u001b[0m \u001b[0;34m/\u001b[0m \u001b[0;34m(\u001b[0m\u001b[0;36m1\u001b[0m \u001b[0;34m+\u001b[0m \u001b[0mnp\u001b[0m\u001b[0;34m.\u001b[0m\u001b[0mexp\u001b[0m\u001b[0;34m(\u001b[0m\u001b[0;34m-\u001b[0m\u001b[0mx\u001b[0m\u001b[0;34m)\u001b[0m\u001b[0;34m)\u001b[0m\u001b[0;34m\u001b[0m\u001b[0m\n\u001b[0m\u001b[1;32m     10\u001b[0m     \u001b[0;32mreturn\u001b[0m \u001b[0ms\u001b[0m\u001b[0;34m\u001b[0m\u001b[0m\n\u001b[1;32m     11\u001b[0m \u001b[0;32mdef\u001b[0m \u001b[0msigmoid_der\u001b[0m\u001b[0;34m(\u001b[0m\u001b[0mx\u001b[0m\u001b[0;34m)\u001b[0m\u001b[0;34m:\u001b[0m\u001b[0;34m\u001b[0m\u001b[0m\n",
      "\u001b[0;31mKeyboardInterrupt\u001b[0m: "
     ]
    }
   ],
   "source": [
    "nh1=128\n",
    "nh2=128\n",
    "lr=0.005\n",
    "act=\"sigmoid\"\n",
    "e=500\n",
    "train(X_train,y_train,nh1,nh2,lr,act,e) "
   ]
  },
  {
   "cell_type": "code",
   "execution_count": 69,
   "metadata": {},
   "outputs": [
    {
     "ename": "KeyboardInterrupt",
     "evalue": "",
     "output_type": "error",
     "traceback": [
      "\u001b[0;31m---------------------------------------------------------------------------\u001b[0m",
      "\u001b[0;31mKeyboardInterrupt\u001b[0m                         Traceback (most recent call last)",
      "\u001b[0;32m<ipython-input-69-6730bbaf615d>\u001b[0m in \u001b[0;36m<module>\u001b[0;34m()\u001b[0m\n\u001b[1;32m      4\u001b[0m \u001b[0mact\u001b[0m\u001b[0;34m=\u001b[0m\u001b[0;34m\"tanh\"\u001b[0m\u001b[0;34m\u001b[0m\u001b[0m\n\u001b[1;32m      5\u001b[0m \u001b[0me\u001b[0m\u001b[0;34m=\u001b[0m\u001b[0;36m65\u001b[0m\u001b[0;34m\u001b[0m\u001b[0m\n\u001b[0;32m----> 6\u001b[0;31m \u001b[0mtrain\u001b[0m\u001b[0;34m(\u001b[0m\u001b[0mX_train\u001b[0m\u001b[0;34m,\u001b[0m\u001b[0my_train\u001b[0m\u001b[0;34m,\u001b[0m\u001b[0mnh1\u001b[0m\u001b[0;34m,\u001b[0m\u001b[0mnh2\u001b[0m\u001b[0;34m,\u001b[0m\u001b[0mlr\u001b[0m\u001b[0;34m,\u001b[0m\u001b[0mact\u001b[0m\u001b[0;34m,\u001b[0m\u001b[0me\u001b[0m\u001b[0;34m)\u001b[0m\u001b[0;34m\u001b[0m\u001b[0m\n\u001b[0m",
      "\u001b[0;32m<ipython-input-66-a251580b7560>\u001b[0m in \u001b[0;36mtrain\u001b[0;34m(X, y, nh1, nh2, lr, act, e)\u001b[0m\n\u001b[1;32m     15\u001b[0m \u001b[0;34m\u001b[0m\u001b[0m\n\u001b[1;32m     16\u001b[0m     \u001b[0;32mfor\u001b[0m \u001b[0mi\u001b[0m \u001b[0;32min\u001b[0m \u001b[0mrange\u001b[0m\u001b[0;34m(\u001b[0m\u001b[0me\u001b[0m\u001b[0;34m)\u001b[0m\u001b[0;34m:\u001b[0m\u001b[0;34m\u001b[0m\u001b[0m\n\u001b[0;32m---> 17\u001b[0;31m         \u001b[0ma1\u001b[0m\u001b[0;34m,\u001b[0m\u001b[0mz1\u001b[0m\u001b[0;34m,\u001b[0m\u001b[0ma2\u001b[0m\u001b[0;34m,\u001b[0m\u001b[0mz2\u001b[0m\u001b[0;34m,\u001b[0m\u001b[0ma3\u001b[0m\u001b[0;34m,\u001b[0m\u001b[0mz3\u001b[0m\u001b[0;34m=\u001b[0m\u001b[0mfeed_forward\u001b[0m\u001b[0;34m(\u001b[0m\u001b[0mX\u001b[0m\u001b[0;34m,\u001b[0m\u001b[0mw1\u001b[0m\u001b[0;34m,\u001b[0m\u001b[0mb1\u001b[0m\u001b[0;34m,\u001b[0m\u001b[0mw2\u001b[0m\u001b[0;34m,\u001b[0m\u001b[0mb2\u001b[0m\u001b[0;34m,\u001b[0m\u001b[0mw3\u001b[0m\u001b[0;34m,\u001b[0m\u001b[0mb3\u001b[0m\u001b[0;34m,\u001b[0m\u001b[0mact\u001b[0m\u001b[0;34m)\u001b[0m\u001b[0;34m\u001b[0m\u001b[0m\n\u001b[0m\u001b[1;32m     18\u001b[0m         \u001b[0;31m#returns gradient for weight update\u001b[0m\u001b[0;34m\u001b[0m\u001b[0;34m\u001b[0m\u001b[0m\n\u001b[1;32m     19\u001b[0m         \u001b[0mdw1\u001b[0m\u001b[0;34m,\u001b[0m\u001b[0mdw2\u001b[0m\u001b[0;34m,\u001b[0m\u001b[0mdb1\u001b[0m\u001b[0;34m,\u001b[0m\u001b[0mdb2\u001b[0m\u001b[0;34m,\u001b[0m\u001b[0mdw3\u001b[0m\u001b[0;34m,\u001b[0m\u001b[0mdb3\u001b[0m\u001b[0;34m=\u001b[0m\u001b[0mback_prop\u001b[0m\u001b[0;34m(\u001b[0m\u001b[0mX\u001b[0m\u001b[0;34m,\u001b[0m\u001b[0my\u001b[0m\u001b[0;34m,\u001b[0m\u001b[0ma1\u001b[0m\u001b[0;34m,\u001b[0m\u001b[0ma2\u001b[0m\u001b[0;34m,\u001b[0m\u001b[0ma3\u001b[0m\u001b[0;34m,\u001b[0m\u001b[0mw2\u001b[0m\u001b[0;34m,\u001b[0m\u001b[0mw3\u001b[0m\u001b[0;34m,\u001b[0m\u001b[0mact\u001b[0m\u001b[0;34m)\u001b[0m\u001b[0;34m\u001b[0m\u001b[0m\n",
      "\u001b[0;32m<ipython-input-57-cac54ae32212>\u001b[0m in \u001b[0;36mfeed_forward\u001b[0;34m(X, w1, b1, w2, b2, w3, b3, act)\u001b[0m\n\u001b[1;32m     14\u001b[0m \u001b[0;34m\u001b[0m\u001b[0m\n\u001b[1;32m     15\u001b[0m     \u001b[0;31m#product of w2.Activation1\u001b[0m\u001b[0;34m\u001b[0m\u001b[0;34m\u001b[0m\u001b[0m\n\u001b[0;32m---> 16\u001b[0;31m     \u001b[0mz2\u001b[0m\u001b[0;34m=\u001b[0m\u001b[0mnp\u001b[0m\u001b[0;34m.\u001b[0m\u001b[0mdot\u001b[0m\u001b[0;34m(\u001b[0m\u001b[0ma1\u001b[0m\u001b[0;34m,\u001b[0m\u001b[0mw2\u001b[0m\u001b[0;34m)\u001b[0m \u001b[0;34m+\u001b[0m \u001b[0mb2\u001b[0m\u001b[0;34m\u001b[0m\u001b[0m\n\u001b[0m\u001b[1;32m     17\u001b[0m \u001b[0;34m\u001b[0m\u001b[0m\n\u001b[1;32m     18\u001b[0m     \u001b[0;31m#Activation functions\u001b[0m\u001b[0;34m\u001b[0m\u001b[0;34m\u001b[0m\u001b[0m\n",
      "\u001b[0;31mKeyboardInterrupt\u001b[0m: "
     ]
    }
   ],
   "source": [
    "nh1=128\n",
    "nh2=128\n",
    "lr=0.05\n",
    "act=\"tanh\"\n",
    "e=65\n",
    "train(X_train,y_train,nh1,nh2,lr,act,e) "
   ]
  },
  {
   "cell_type": "code",
   "execution_count": 1176,
   "metadata": {
    "scrolled": false
   },
   "outputs": [
    {
     "name": "stdout",
     "output_type": "stream",
     "text": [
      "train_loss: 10.664302397235351\n"
     ]
    },
    {
     "data": {
      "image/png": "[encoded data removed]",
      "text/plain": [
       "<Figure size 432x288 with 1 Axes>"
      ]
     },
     "metadata": {},
     "output_type": "display_data"
    },
    {
     "name": "stdout",
     "output_type": "stream",
     "text": [
      "test_loss: 9.823521312377462\n",
      "Accuracy of Test data:0.13372222222222221\n"
     ]
    }
   ],
   "source": [
    "nh=64\n",
    "lr=0.0001\n",
    "act=\"sigmoid\"\n",
    "e=300\n",
    "train(X_train,y_train,nh,lr,act,e) "
   ]
  },
  {
   "cell_type": "code",
   "execution_count": 1174,
   "metadata": {
    "scrolled": false
   },
   "outputs": [
    {
     "name": "stdout",
     "output_type": "stream",
     "text": [
      "train_loss: 9.600476520324879\n"
     ]
    },
    {
     "data": {
      "image/png": "[encoded data removed]",
      "text/plain": [
       "<Figure size 432x288 with 1 Axes>"
      ]
     },
     "metadata": {},
     "output_type": "display_data"
    },
    {
     "name": "stdout",
     "output_type": "stream",
     "text": [
      "test_loss: 8.767868348390682\n",
      "Accuracy of Test data:0.6391111111111111\n"
     ]
    }
   ],
   "source": [
    "nh=128\n",
    "lr=0.003\n",
    "act=\"tanh\"\n",
    "e=100\n",
    "train(X_train,y_train,nh,lr,act,e) "
   ]
  },
  {
   "cell_type": "code",
   "execution_count": 1308,
   "metadata": {},
   "outputs": [
    {
     "name": "stdout",
     "output_type": "stream",
     "text": [
      "train_loss: 1.614213211948158\n"
     ]
    },
    {
     "data": {
      "image/png": "[encoded data removed]",
      "text/plain": [
       "<Figure size 432x288 with 1 Axes>"
      ]
     },
     "metadata": {},
     "output_type": "display_data"
    },
    {
     "name": "stdout",
     "output_type": "stream",
     "text": [
      "test_loss: 1.5735473877683361\n",
      "Accuracy of Test data:0.6666666666666666\n"
     ]
    }
   ],
   "source": [
    "#XOR data validation\n",
    "X=np.array([[0,0,0],[0,0,1],[0,1,0],[0,1,1],[1,0,0],[1,0,1],[1,1,0],[1,1,1]])\n",
    "y=np.array([[0],[1],[1],[0],[1],[0],[0],[1]])\n",
    "X_train, X_test, y_train, y_test = train_test_split(X, y, test_size=0.3,random_state=42)\n",
    "nh=5\n",
    "lr=0.01\n",
    "act=\"sigmoid\"\n",
    "e=6000\n",
    "train(X_train,y_train,nh,lr,act,e) "
   ]
  },
  {
   "cell_type": "code",
   "execution_count": null,
   "metadata": {},
   "outputs": [],
   "source": []
  },
  {
   "cell_type": "code",
   "execution_count": null,
   "metadata": {},
   "outputs": [],
   "source": []
  }
 ],
 "metadata": {
  "kernelspec": {
   "display_name": "Python 3",
   "language": "python",
   "name": "python3"
  },
  "language_info": {
   "codemirror_mode": {
    "name": "ipython",
    "version": 3
   },
   "file_extension": ".py",
   "mimetype": "text/x-python",
   "name": "python",
   "nbconvert_exporter": "python",
   "pygments_lexer": "ipython3",
   "version": "3.6.5"
  }
 },
 "nbformat": 4,
 "nbformat_minor": 2
}
