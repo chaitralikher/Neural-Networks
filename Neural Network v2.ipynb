{
 "cells": [
  {
   "cell_type": "code",
   "execution_count": 103,
   "metadata": {},
   "outputs": [
    {
     "name": "stdout",
     "output_type": "stream",
     "text": [
      "(48000, 784)\n"
     ]
    }
   ],
   "source": [
    "import idx2numpy\n",
    "from sklearn.metrics import accuracy_score\n",
    "import pandas as pd\n",
    "import numpy as np\n",
    "import matplotlib.pyplot as plt\n",
    "from sklearn.model_selection import train_test_split\n",
    "\n",
    "data = idx2numpy.convert_from_file(\"/Volumes/Chaitrali/ML/Neural Networks/train-images-idx3-ubyte\")\n",
    "y= idx2numpy.convert_from_file(\"/Volumes/Chaitrali/ML/Neural Networks/train-labels-idx1-ubyte\")\n",
    "y=pd.get_dummies(y)\n",
    "\n",
    "X=data.reshape(60000,784)\n",
    "y1=np.array(y)\n",
    "X_train, X_test, y_train, y_test = train_test_split(X, y1, test_size=0.2,random_state=42)\n",
    "print(X_train.shape)"
   ]
  },
  {
   "cell_type": "markdown",
   "metadata": {},
   "source": [
    "### Visualize the Input Data"
   ]
  },
  {
   "cell_type": "code",
   "execution_count": 120,
   "metadata": {},
   "outputs": [
    {
     "data": {
      "image/png": "[encoded data removed]",
      "text/plain": [
       "<Figure size 432x288 with 1 Axes>"
      ]
     },
     "metadata": {},
     "output_type": "display_data"
    },
    {
     "data": {
      "image/png": "[encoded data removed]",
      "text/plain": [
       "<Figure size 432x288 with 1 Axes>"
      ]
     },
     "metadata": {},
     "output_type": "display_data"
    },
    {
     "data": {
      "image/png": "[encoded data removed]",
      "text/plain": [
       "<Figure size 432x288 with 1 Axes>"
      ]
     },
     "metadata": {},
     "output_type": "display_data"
    },
    {
     "data": {
      "image/png": "[encoded data removed]",
      "text/plain": [
       "<Figure size 432x288 with 1 Axes>"
      ]
     },
     "metadata": {},
     "output_type": "display_data"
    },
    {
     "data": {
      "image/png": "[encoded data removed]",
      "text/plain": [
       "<Figure size 432x288 with 1 Axes>"
      ]
     },
     "metadata": {},
     "output_type": "display_data"
    }
   ],
   "source": [
    "for i in range(0,5):    \n",
    "    pixels=X_train[i]\n",
    "    label=y_train[i]\n",
    "    pixels = np.array(pixels, dtype='float')\n",
    "    # Reshape the array into 28 x 28 array (2-dimensional array)\n",
    "    pixels = pixels.reshape((28, 28))\n",
    "    # Plot\n",
    "    plt.title('Digit Representation')\n",
    "    plt.imshow(pixels, cmap='gray')\n",
    "    plt.show()"
   ]
  },
  {
   "cell_type": "code",
   "execution_count": 104,
   "metadata": {},
   "outputs": [],
   "source": [
    "def create_weights(nh1,nh2,sample,output_n):\n",
    "    \n",
    "    weights_hidden1=np.random.randn(sample,nh1)* np.sqrt(1. / sample)\n",
    "    bias_hidden1=np.zeros((1,nh1))\n",
    "    \n",
    "    weights_hidden2=np.random.randn(nh1,nh2)* np.sqrt(1. / nh1)\n",
    "    bias_hidden2=np.zeros((1,nh2))\n",
    "    weights_output=np.random.randn(nh2,output_n)* np.sqrt(1. / nh2)\n",
    "    bias_output=np.zeros((1,output_n))\n",
    "    return weights_hidden1,bias_hidden1,weights_hidden2,bias_hidden2, weights_output,bias_output"
   ]
  },
  {
   "cell_type": "code",
   "execution_count": 105,
   "metadata": {},
   "outputs": [],
   "source": [
    "def tanh(z):\n",
    "    a= (np.exp(z) - np.exp(-z)) / (np.exp(z) + np.exp(-z))\n",
    "    return a\n",
    "def tanh_der(z):\n",
    "    a= 1 - (z**2)\n",
    "    return a\n",
    "def sigmoid(x):   \n",
    "#sigmoid activation function\n",
    "    s = 1 / (1 + np.exp(-x))\n",
    "    return s\n",
    "def sigmoid_der(x):\n",
    "    return x*(1-x)"
   ]
  },
  {
   "cell_type": "code",
   "execution_count": 106,
   "metadata": {},
   "outputs": [],
   "source": [
    "\n",
    "#feed forward\n",
    "def feed_forward(X,w1,b1,w2,b2,w3,b3,act):\n",
    "    act=act\n",
    "    \n",
    "    #product of w1.x\n",
    "    z1=np.dot(X,w1)+b1\n",
    "    \n",
    "    #Activation functions\n",
    "    if act == \"sigmoid\":\n",
    "        a1=sigmoid(z1)\n",
    "    else:\n",
    "        a1=tanh(z1)\n",
    "  \n",
    "    #product of w2.Activation1\n",
    "    z2=np.dot(a1,w2) + b2\n",
    "    \n",
    "    #Activation functions\n",
    "    if act == \"sigmoid\":\n",
    "        a2=sigmoid(z2)\n",
    "    else:\n",
    "        a2=tanh(z2)\n",
    "    \n",
    "    #product of w3.Activation2\n",
    "    z3=np.dot(a2,w3) + b3\n",
    "    \n",
    "    #Activation output layer=softmax\n",
    "    a3= np.exp(z3) / np.sum(np.exp(z3), axis=0,keepdims=True)\n",
    "    \n",
    "    return a1,z1,a2,z2,a3,z3\n"
   ]
  },
  {
   "cell_type": "code",
   "execution_count": 107,
   "metadata": {},
   "outputs": [],
   "source": [
    "def error(pred, real):\n",
    "    n_samples = real.shape[0]\n",
    "    res = pred - real\n",
    "    return res/n_samples\n",
    "\n",
    "#Back propogation\n",
    "def back_prop(X,y,a1,a2,a3,w2,w3,act):\n",
    "    #return gradients of corresponding weights and bias\n",
    "    \n",
    "    #error from last\n",
    "    dz3=error(a3,y)\n",
    "    \n",
    "    #grads from last layer\n",
    "    dw3=np.dot(a2.T,dz3)\n",
    "    db3 =np.sum(dz3, axis=0, keepdims=True)\n",
    "    \n",
    "    #back propgate through 2nd layer\n",
    "    da2 = np.dot(dz3,w3.T)\n",
    "    \n",
    "    if act == \"sigmoid\":\n",
    "        dz2 = da2 * sigmoid_der(a2)\n",
    "    else:\n",
    "        dz2= da2 * tanh_der(a2)\n",
    "        \n",
    "    #grads from hidden layer \n",
    "    dw2=np.dot(a1.T,dz2)\n",
    "    db2 =np.sum(dz2, axis=0, keepdims=True)\n",
    "    \n",
    "   # back propgate through first layer\n",
    "    da1 = np.dot(dz2,w2.T)\n",
    "    \n",
    "    if act == \"sigmoid\":\n",
    "        dz1 = da1 * sigmoid_der(a1)\n",
    "    else:\n",
    "        dz1= da1 * tanh_der(a1)\n",
    "    \n",
    "    # gradients at first hidden layer \n",
    "    dw1 = np.dot(X.T,dz1)\n",
    "    db1 = np.sum(dz1, axis=0, keepdims=True)\n",
    "    \n",
    "    return dw1,dw2,db1,db2,dw3,db3    "
   ]
  },
  {
   "cell_type": "code",
   "execution_count": 108,
   "metadata": {},
   "outputs": [],
   "source": [
    "#Cross Entropy Loss\n",
    "def compute_loss(Y, Y_hat):\n",
    "    n_samples = Y.shape[0]\n",
    "    logp = - np.log(Y_hat[np.arange(n_samples), Y.argmax(axis=1)])\n",
    "    #print(\"logp: \"+str(logp))\n",
    "    loss = np.sum(logp)/n_samples\n",
    "    return loss\n",
    "     "
   ]
  },
  {
   "cell_type": "code",
   "execution_count": 109,
   "metadata": {},
   "outputs": [],
   "source": [
    "#training the model\n",
    "def train(X,y,nh1,nh2,lr,act,e):\n",
    "    \"hyperparameters tuning\"\n",
    "    epoch=int(e)+1\n",
    "    sample=784\n",
    "    output_n=10\n",
    "    beta=0.999\n",
    "    acc=[]\n",
    "    train_loss=[]\n",
    "    epochs = range(1,epoch)\n",
    "    w1,b1,w2,b2,w3,b3=create_weights(nh1,nh2,sample,output_n)\n",
    "    \n",
    "    #for xor data weight will be initialized as follows:\n",
    "    #w1,b1,w2,b2=create_weights(nh,3,2)\n",
    "    \n",
    "    for i in range(e):\n",
    "        a1,z1,a2,z2,a3,z3=feed_forward(X,w1,b1,w2,b2,w3,b3,act)\n",
    "        #returns gradient for weight update\n",
    "        dw1,dw2,db1,db2,dw3,db3=back_prop(X,y,a1,a2,a3,w2,w3,act)\n",
    "       \n",
    "        dw1=beta*dw1+(1.0-beta)*dw1\n",
    "        dw2=beta*dw2+(1.0-beta)*dw2\n",
    "        db1=beta*db1+(1.0-beta)*db1\n",
    "        db2=beta*db2+(1.0-beta)*db2\n",
    "        dw3=beta*dw3+(1.0-beta)*dw3\n",
    "        db3=beta*db3+(1.0-beta)*db3\n",
    "        \n",
    "        #update weights and bias for next epoch--gradient descent\n",
    "        w1=w1-(lr*dw1)\n",
    "        b1=b1-(lr*db1)\n",
    "        w2=w2-(lr*dw2)\n",
    "        b2=b2-(lr*db2)\n",
    "        w3=w3-(lr*dw3)\n",
    "        b3=b3-(lr*db3)\n",
    "        \n",
    "        #feedforward new weights\n",
    "        a1,z1,a2,z2,a3,z3=feed_forward(X,w1,b1,w2,b2,w3,b3,act)\n",
    "        #cross-entropy loss\n",
    "        loss=compute_loss(y,a3)\n",
    "        train_loss.append(loss)\n",
    "        a21=np.argmax(a3,axis=1)\n",
    "        y1=np.argmax(y,axis=1)\n",
    "        a=accuracy_score(y1, a21)*100\n",
    "        acc.append(a)\n",
    "    print(\"train_loss: \"+str(loss))\n",
    "    \n",
    "    plt.plot(epochs,acc,'g')\n",
    "    plt.title('Accuracy of Training')\n",
    "    plt.xlabel('Epochs')\n",
    "    plt.ylabel('Accuracy')\n",
    "    plt.show()\n",
    "    \n",
    "    #predict test\n",
    "    a1,z1,a2,z2,a3,z3=feed_forward(X_test,w1,b1,w2,b2,w3,b3,act)\n",
    "    test_loss=compute_loss(y_test,a3)\n",
    "    print(\"test_loss: \"+str(test_loss))\n",
    "    a22=np.argmax(a3,axis=1)\n",
    "    y2=np.argmax(y_test,axis=1)\n",
    "    accu=accuracy_score(y2, a22)*100\n",
    "    print(\"Accuracy of Test data:\"+str(accu))"
   ]
  },
  {
   "cell_type": "code",
   "execution_count": 111,
   "metadata": {},
   "outputs": [
    {
     "name": "stdout",
     "output_type": "stream",
     "text": [
      "train_loss: 9.412944955608959\n"
     ]
    },
    {
     "data": {
      "image/png": "[encoded data removed]",
      "text/plain": [
       "<Figure size 432x288 with 1 Axes>"
      ]
     },
     "metadata": {},
     "output_type": "display_data"
    },
    {
     "name": "stdout",
     "output_type": "stream",
     "text": [
      "test_loss: 8.047993859806368\n",
      "Accuracy of Test data:78.2\n"
     ]
    }
   ],
   "source": [
    "nh1=128\n",
    "nh2=64\n",
    "lr=0.05\n",
    "act=\"tanh\"\n",
    "e=65\n",
    "train(X_train,y_train,nh1,nh2,lr,act,e) "
   ]
  }
 ],
 "metadata": {
  "kernelspec": {
   "display_name": "Python 3",
   "language": "python",
   "name": "python3"
  },
  "language_info": {
   "codemirror_mode": {
    "name": "ipython",
    "version": 3
   },
   "file_extension": ".py",
   "mimetype": "text/x-python",
   "name": "python",
   "nbconvert_exporter": "python",
   "pygments_lexer": "ipython3",
   "version": "3.6.5"
  }
 },
 "nbformat": 4,
 "nbformat_minor": 2
}
